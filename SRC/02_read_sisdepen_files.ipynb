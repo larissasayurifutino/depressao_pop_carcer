{
  "nbformat": 4,
  "nbformat_minor": 0,
  "metadata": {
    "colab": {
      "name": "02_read_sisdepen_files.ipynb",
      "provenance": [],
      "collapsed_sections": []
    },
    "kernelspec": {
      "name": "python3",
      "display_name": "Python 3"
    },
    "language_info": {
      "name": "python"
    }
  },
  "cells": [
    {
      "cell_type": "code",
      "metadata": {
        "id": "XHL2Mj1LqZS0"
      },
      "source": [
        "# Pacotes\n",
        "import pandas as pd    # manipulação de planilhas e data.frames\n",
        "import os              # manipulação de arquivos\n",
        "import shutil          # comprimir arquivos"
      ],
      "execution_count": 54,
      "outputs": []
    },
    {
      "cell_type": "code",
      "metadata": {
        "id": "s43I0ag_ozCP"
      },
      "source": [
        "# Função que pega as linhas do obj que tem a string de interesse e acrescenta var uf, mes, ano e var (eu criei)\n",
        "def filtrar_linhas(obj, string, uf, mes, ano, var):\n",
        "  obj_fin = obj[obj['var1'].str.contains(string, na = False)].dropna(axis = 'columns')\n",
        "\n",
        "  obj_fin['uf'] = uf\n",
        "  obj_fin['mes'] = mes\n",
        "  obj_fin['ano'] = ano\n",
        "  obj_fin['var'] = var\n",
        "\n",
        "  if var == 'psico':\n",
        "    obj_fin = obj_fin[obj_fin['var4'] == 'Total']\n",
        "\n",
        "  return obj_fin"
      ],
      "execution_count": 55,
      "outputs": []
    },
    {
      "cell_type": "code",
      "metadata": {
        "colab": {
          "base_uri": "https://localhost:8080/"
        },
        "id": "WYtTkSS7mrMT",
        "outputId": "61b20018-bf12-4424-b969-9c9a3bbcd685"
      },
      "source": [
        "# Usaremos apenas os arquivos a partir de 2014\n",
        "nome_diret = 'SISDEPEN_ARQS'\n",
        "\n",
        "arqs = os.listdir(nome_diret)\n",
        "\n",
        "arqs_usar = []\n",
        "\n",
        "for arq in arqs:\n",
        "  # Arqs cujo nome fogem ao padrão\n",
        "  # Como são de 2020 vou usar e já crescento na lista arqs_usar\n",
        "  if arq in ('prjun2020.xls', 'rnjun2020.xls'): \n",
        "    arqs_usar.append(arq)\n",
        "    #print(arq)\n",
        "  else: \n",
        "    ano = int(float(arq[7:11]))\n",
        "    if ano >= 2014:\n",
        "      arqs_usar.append(arq)\n",
        "\n",
        "len(arqs_usar)"
      ],
      "execution_count": 56,
      "outputs": [
        {
          "output_type": "execute_result",
          "data": {
            "text/plain": [
              "350"
            ]
          },
          "metadata": {},
          "execution_count": 56
        }
      ]
    },
    {
      "cell_type": "code",
      "metadata": {
        "id": "d_RNVikVvg6h",
        "colab": {
          "base_uri": "https://localhost:8080/",
          "height": 80
        },
        "outputId": "59fd2331-781b-4e5f-ffb2-440de2325be0"
      },
      "source": [
        "d = {'level': ['999'], 'value': [999], 'uf': ['999'], 'mes': ['999'], 'ano': [999], 'var': ['999']}\n",
        "df_infogeral = pd.DataFrame(data = d)\n",
        "\n",
        "e = {'level': ['999'], 'total': [999], 'porc': ['999'], 'uf': ['999'], 'mes': ['999'], 'ano': [999], 'var': ['999']}\n",
        "df_sala = pd.DataFrame(data = e)\n",
        "\n",
        "aux = {'level': ['999'], 'masc': ['999'], 'fem': ['999'], 'total': [999], 'uf': ['999'], 'mes': ['999'], 'ano': [999], 'var': ['999']}\n",
        "df_cons = pd.DataFrame(data = aux)\n",
        "\n",
        "aux2 = {'level': ['999'], 'masc': ['999'], 'fem': ['999'], 'misto': ['999'], 'total': [999], 'uf': ['999'], 'mes': ['999'], 'ano': [999], 'var': ['999']}\n",
        "df_totestab = pd.DataFrame(data = aux2)\n",
        "\n",
        "#var1\tvar4\tvar6\tvar8\tvar10\tvar12\tvar14\n",
        "aux3 = {'level': ['999'], 'gen': ['999'], 'Efetivo': [999], 'Comissionado': [999], 'Terceirizado': [999], 'Temporário': [999], 'total': [999], 'uf': ['999'], 'mes': ['999'], 'ano': [999], 'var': ['999']}\n",
        "df_psico = pd.DataFrame(data = aux3)\n",
        "\n",
        "df_suic = pd.DataFrame(data = aux)\n",
        "\n",
        "df_psico"
      ],
      "execution_count": 58,
      "outputs": [
        {
          "output_type": "execute_result",
          "data": {
            "text/html": [
              "<div>\n",
              "<style scoped>\n",
              "    .dataframe tbody tr th:only-of-type {\n",
              "        vertical-align: middle;\n",
              "    }\n",
              "\n",
              "    .dataframe tbody tr th {\n",
              "        vertical-align: top;\n",
              "    }\n",
              "\n",
              "    .dataframe thead th {\n",
              "        text-align: right;\n",
              "    }\n",
              "</style>\n",
              "<table border=\"1\" class=\"dataframe\">\n",
              "  <thead>\n",
              "    <tr style=\"text-align: right;\">\n",
              "      <th></th>\n",
              "      <th>level</th>\n",
              "      <th>gen</th>\n",
              "      <th>Efetivo</th>\n",
              "      <th>Comissionado</th>\n",
              "      <th>Terceirizado</th>\n",
              "      <th>Temporário</th>\n",
              "      <th>total</th>\n",
              "      <th>uf</th>\n",
              "      <th>mes</th>\n",
              "      <th>ano</th>\n",
              "      <th>var</th>\n",
              "    </tr>\n",
              "  </thead>\n",
              "  <tbody>\n",
              "    <tr>\n",
              "      <th>0</th>\n",
              "      <td>999</td>\n",
              "      <td>999</td>\n",
              "      <td>999</td>\n",
              "      <td>999</td>\n",
              "      <td>999</td>\n",
              "      <td>999</td>\n",
              "      <td>999</td>\n",
              "      <td>999</td>\n",
              "      <td>999</td>\n",
              "      <td>999</td>\n",
              "      <td>999</td>\n",
              "    </tr>\n",
              "  </tbody>\n",
              "</table>\n",
              "</div>"
            ],
            "text/plain": [
              "  level  gen  Efetivo  Comissionado  Terceirizado  ...  total   uf  mes  ano  var\n",
              "0   999  999      999           999           999  ...    999  999  999  999  999\n",
              "\n",
              "[1 rows x 11 columns]"
            ]
          },
          "metadata": {},
          "execution_count": 58
        }
      ]
    },
    {
      "cell_type": "markdown",
      "metadata": {
        "id": "dVCT3o0_0Y3-"
      },
      "source": [
        ""
      ]
    },
    {
      "cell_type": "code",
      "metadata": {
        "id": "xX0cc6JghLrd",
        "colab": {
          "base_uri": "https://localhost:8080/"
        },
        "outputId": "17e129a1-3b6f-4b1c-f794-eed236809c74"
      },
      "source": [
        "for arq in arqs_usar:\n",
        "  # Criando variaveis a partir de slicing do nome do arq\n",
        "  # Arqs cujo nome fogem ao padrão\n",
        "  if arq in ('prjun2020.xls', 'rnjun2020.xls'):\n",
        "    UF = arq[0:2]\n",
        "    MES = arq[2:5]\n",
        "    ANO = arq[5:9]\n",
        "  else:\n",
        "    UF = arq[0:2]\n",
        "    MES = arq[3:6]\n",
        "    ANO = arq[7:11]\n",
        "\n",
        "\n",
        "  # Lendo os dados\n",
        "  popcarcer = pd.read_excel(nome_diret + '/' + arq,   \n",
        "                            skiprows = 7, \n",
        "                            names = [\"var0\", \"var1\", \"var2\", \"var3\", \"var4\", \"var5\",\n",
        "                              \"var6\", \"var7\", \"var8\", \"var9\", \"var10\", \"var11\",\n",
        "                              \"var12\", \"var13\", \"var14\", \"var15\", \"var16\", \"var17\",\n",
        "                              \"var18\", \"var19\", \"var20\", \"var21\", \"var22\"],\n",
        "                            index_col = 0,\n",
        "                            header = None)\n",
        "  \n",
        "  # Excluir as linhas que são completamente de NA\n",
        "  popcarcer = popcarcer.dropna(how = 'all')\n",
        "\n",
        "  # Imputando as células mescladas com a ocorrência imediatamente anterior: \n",
        "  popcarcer['var1'] = popcarcer['var1'].fillna(method = 'pad') \n",
        "  \n",
        "  # Info\n",
        "  infogeral = filtrar_linhas(popcarcer, 'População carcerária', UF, MES, ANO, 'pop')\n",
        "  infogeral = infogeral.rename(columns = {list(infogeral)[0]:'level', list(infogeral)[1]:'value'})\n",
        "  df_infogeral = df_infogeral.append([infogeral])\n",
        "\n",
        "  # Total de estab\n",
        "  totestab = filtrar_linhas(popcarcer, 'Total de estabelecimentos penais', UF, MES, ANO, 'pop')\n",
        "  totestab = totestab.rename(columns = {list(totestab)[0]:'level', list(totestab)[1]:'masc', list(totestab)[2]:'fem', list(totestab)[3]:'misto', list(totestab)[4]:'total'})\n",
        "  df_totestab = df_totestab.append([totestab])\n",
        "\n",
        "  # Sala de Atendimento Psicologico\n",
        "  sala = filtrar_linhas(popcarcer, 'Leitos Psiquiátricos|sala exclusiva de atendimento psicológico|sala de atendimento psicológico compartilhada', UF, MES, ANO, 'sala')\n",
        "  sala = sala.rename(columns = {list(sala)[0]:'level', list(sala)[1]:'total', list(sala)[2]:'porc'}) \n",
        "  df_sala = df_sala.append([sala])\n",
        "\n",
        "  # Consultas\n",
        "  cons = filtrar_linhas(popcarcer, 'Consultas psicológicas', UF, MES, ANO, 'cons')\n",
        "  cons = cons.rename(columns = {list(cons)[0]:'level', list(cons)[1]:'masc', list(cons)[2]:'fem', list(cons)[3]:'total'}) \n",
        "  df_cons = df_cons.append([cons])\n",
        "\n",
        "  # Suicidios\n",
        "  suic = filtrar_linhas(popcarcer, 'Óbitos', UF, MES, ANO, 'suic')\n",
        "  suic = suic.rename(columns = {list(suic)[0]:'level', list(suic)[1]:'masc', list(suic)[2]:'fem', list(suic)[3]:'total'}) \n",
        "  df_suic = df_suic.append([suic])  \n",
        "\n",
        "  # Psicologos\n",
        "  psico = filtrar_linhas(popcarcer, 'Terapeutas|Psicólogos|Psicólogos/as|Psiquiatras|psiquiatras', UF, MES, ANO, 'psico')\n",
        "  psico = psico.rename(columns = {list(psico)[0]:'level', list(psico)[1]:'gen', \n",
        "                                  list(psico)[2]:'Efetivo', list(psico)[3]:'Comissionado',\n",
        "                                  list(psico)[4]:'Terceirizado', list(psico)[5]:'Temporário',\n",
        "                                  list(psico)[6]:'total'})\n",
        "\n",
        "  df_psico = df_psico.append([psico]) \n",
        "  "
      ],
      "execution_count": 59,
      "outputs": [
        {
          "output_type": "stream",
          "name": "stderr",
          "text": [
            "/usr/local/lib/python3.7/dist-packages/ipykernel_launcher.py:28: SettingWithCopyWarning: \n",
            "A value is trying to be set on a copy of a slice from a DataFrame.\n",
            "Try using .loc[row_indexer,col_indexer] = value instead\n",
            "\n",
            "See the caveats in the documentation: https://pandas.pydata.org/pandas-docs/stable/user_guide/indexing.html#returning-a-view-versus-a-copy\n",
            "/usr/local/lib/python3.7/dist-packages/ipykernel_launcher.py:28: SettingWithCopyWarning: \n",
            "A value is trying to be set on a copy of a slice from a DataFrame.\n",
            "Try using .loc[row_indexer,col_indexer] = value instead\n",
            "\n",
            "See the caveats in the documentation: https://pandas.pydata.org/pandas-docs/stable/user_guide/indexing.html#returning-a-view-versus-a-copy\n",
            "/usr/local/lib/python3.7/dist-packages/ipykernel_launcher.py:28: SettingWithCopyWarning: \n",
            "A value is trying to be set on a copy of a slice from a DataFrame.\n",
            "Try using .loc[row_indexer,col_indexer] = value instead\n",
            "\n",
            "See the caveats in the documentation: https://pandas.pydata.org/pandas-docs/stable/user_guide/indexing.html#returning-a-view-versus-a-copy\n"
          ]
        }
      ]
    },
    {
      "cell_type": "code",
      "metadata": {
        "id": "QBBfECbD17jc"
      },
      "source": [
        "# Função que exclui a linha inicial que eu criei, tira NAs e ordena as linhas\n",
        "def ajeitar_ordenar_linhas(obj):\n",
        "  obj_fin = obj.query(' uf != \"999\" ')\n",
        "  obj_fin = obj_fin.dropna(axis = 'columns')\n",
        "  obj_fin = obj_fin.sort_values(by = ['uf', 'ano', 'mes'])\n",
        "  return obj_fin"
      ],
      "execution_count": 61,
      "outputs": []
    },
    {
      "cell_type": "code",
      "metadata": {
        "id": "8bAnQZWRMFBj"
      },
      "source": [
        "df_infogeral = ajeitar_ordenar_linhas(df_infogeral)\n",
        "df_totestab = ajeitar_ordenar_linhas(df_totestab)\n",
        "df_sala = ajeitar_ordenar_linhas(df_sala)\n",
        "df_cons = ajeitar_ordenar_linhas(df_cons)\n",
        "df_suic = ajeitar_ordenar_linhas(df_suic)\n",
        "df_psico = ajeitar_ordenar_linhas(df_psico)"
      ],
      "execution_count": 62,
      "outputs": []
    },
    {
      "cell_type": "code",
      "metadata": {
        "id": "1gAHTp6DOiT9"
      },
      "source": [
        "df_psico"
      ],
      "execution_count": null,
      "outputs": []
    },
    {
      "cell_type": "code",
      "metadata": {
        "id": "QTuBW9Mb80dm"
      },
      "source": [
        "# Gerando planilhas desses arqs\n",
        "#os.mkdir('SISDEPEN_SELECTEDVAR')\n",
        "\n",
        "df_infogeral.to_csv('SISDEPEN_SELECTEDVAR/df_infogeral.csv', index = False)\n",
        "df_totestab.to_csv('SISDEPEN_SELECTEDVAR/df_totestab.csv', index = False)\n",
        "df_sala.to_csv('SISDEPEN_SELECTEDVAR/df_sala.csv', index = False)\n",
        "df_cons.to_csv('SISDEPEN_SELECTEDVAR/df_cons.csv', index = False)\n",
        "df_suic.to_csv('SISDEPEN_SELECTEDVAR/df_suic.csv', index = False)\n",
        "df_psico.to_csv('SISDEPEN_SELECTEDVAR/df_psico.csv', index = False)"
      ],
      "execution_count": 66,
      "outputs": []
    },
    {
      "cell_type": "code",
      "metadata": {
        "colab": {
          "base_uri": "https://localhost:8080/",
          "height": 35
        },
        "id": "_16lo3pwOaXp",
        "outputId": "6cd94ca1-c31e-4da3-8e8e-71f436c2f53d"
      },
      "source": [
        "# Comprimindo os arqs p fazer download\n",
        "shutil.make_archive('SISDEPEN_SELECTEDVAR', 'zip', 'SISDEPEN_SELECTEDVAR')"
      ],
      "execution_count": 67,
      "outputs": [
        {
          "output_type": "execute_result",
          "data": {
            "application/vnd.google.colaboratory.intrinsic+json": {
              "type": "string"
            },
            "text/plain": [
              "'/content/SISDEPEN_SELECTEDVAR.zip'"
            ]
          },
          "metadata": {},
          "execution_count": 67
        }
      ]
    }
  ]
}